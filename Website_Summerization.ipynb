{
 "cells": [
  {
   "cell_type": "code",
   "execution_count": 123,
   "id": "4e2a9393-7767-488e-a8bf-27c12dca35bd",
   "metadata": {},
   "outputs": [],
   "source": [
    "# imports\n",
    "\n",
    "import os\n",
    "import requests\n",
    "from dotenv import load_dotenv\n",
    "from bs4 import BeautifulSoup\n",
    "from IPython.display import Markdown, display\n",
    "from openai import OpenAI\n",
    "\n"
   ]
  },
  {
   "cell_type": "code",
   "execution_count": 124,
   "id": "7b87cadb-d513-4303-baee-a37b6f938e4d",
   "metadata": {},
   "outputs": [
    {
     "name": "stdout",
     "output_type": "stream",
     "text": [
      "API key found and looks good so far!\n"
     ]
    }
   ],
   "source": [
    "# Loading the environment variables in a file called .env\n",
    "\n",
    "load_dotenv(override=True)\n",
    "api_key = os.getenv('OpenAI_API_KeyB')\n",
    "\n",
    "# Check OpenAI key\n",
    "\n",
    "if not api_key:\n",
    "    print(\"No API key was found\")\n",
    "elif not api_key.startswith(\"sk-proj-\"):\n",
    "    print(\"An API key was found, but it doesn't start sk-proj-\")\n",
    "elif api_key.strip() != api_key:\n",
    "    print(\"An API key was found, but it looks like it might have space or tab characters at the start or end - please remove them\")\n",
    "else:\n",
    "    print(\"API key found and looks good so far!\")\n"
   ]
  },
  {
   "cell_type": "code",
   "execution_count": 134,
   "id": "7beac2e7-d202-4a81-9345-07f0ee89722c",
   "metadata": {},
   "outputs": [],
   "source": [
    "import os\n",
    "from openai import OpenAI\n",
    "\n",
    "# Set the environment variable\n",
    "os.environ[\"OPENAI_API_KEY\"] = \"OpenAI_API_KeyB\"  # Replace with your actual key\n",
    "\n",
    "# Now you can initialize without explicitly passing the key\n",
    "client = OpenAI()"
   ]
  },
  {
   "cell_type": "code",
   "execution_count": 135,
   "id": "019974d9-f3ad-4a8a-b5f9-0a3719aea2d3",
   "metadata": {},
   "outputs": [],
   "source": [
    "openai = OpenAI()\n",
    "\n"
   ]
  },
  {
   "cell_type": "code",
   "execution_count": 152,
   "id": "6d9953c5-12ab-4114-b079-ae8fbbe5e4f7",
   "metadata": {},
   "outputs": [],
   "source": [
    "# A class to represent a Webpage\n",
    "\n",
    "# Some websites require the use of proper headers when fetching them:\n",
    "\n",
    "headers = {\n",
    " \"User-Agent\": \"Mozilla/5.0 (Windows NT 10.0; Win64; x64) AppleWebKit/537.36 (KHTML, like Gecko) Chrome/117.0.0.0 Safari/537.36\"\n",
    "}\n",
    "\n",
    "class Website:\n",
    "\n",
    "    def __init__(self, url):\n",
    "        \"\"\"\n",
    "        Create this Website object from the given url using the BeautifulSoup library\n",
    "        \"\"\"\n",
    "        self.url = url\n",
    "        response = requests.get(url, headers=headers)\n",
    "        soup = BeautifulSoup(response.content, 'html.parser')\n",
    "        self.title = soup.title.string if soup.title else \"No title found\"\n",
    "        for irrelevant in soup.body([\"script\", \"style\", \"img\", \"input\"]):\n",
    "            irrelevant.decompose()\n",
    "        self.text = soup.body.get_text(separator=\"\\n\", strip=True)"
   ]
  },
  {
   "cell_type": "code",
   "execution_count": 142,
   "id": "abdb8417-c5dc-44bc-9bee-2e059d162699",
   "metadata": {},
   "outputs": [],
   "source": [
    "# Define a system prompt \n",
    "\n",
    "system_prompt = \"You are an ML Engineer and want to analyze that analyzes the contents of a website \\\n",
    "and provides a short summary, ignoring text that might be navigation related. \\\n",
    "Respond in markdown.\""
   ]
  },
  {
   "cell_type": "code",
   "execution_count": 143,
   "id": "f0275b1b-7cfe-4f9d-abfa-7650d378da0c",
   "metadata": {},
   "outputs": [],
   "source": [
    "# Creating a function that writes a User Prompt that requests for a summary of websites:\n",
    "\n",
    "def user_prompt_for(website):\n",
    "    user_prompt = f\"You are looking at a website titled {website.title}\"\n",
    "    user_prompt += \"\\nThe contents of this website is as follows; \\\n",
    "please provide a short summary of this website in markdown. \\\n",
    "If it includes news or announcements, then summarize these too.\\n\\n\"\n",
    "    user_prompt += website.text\n",
    "    return user_prompt"
   ]
  },
  {
   "cell_type": "code",
   "execution_count": 144,
   "id": "0134dfa4-8299-48b5-b444-f2a8c3403c88",
   "metadata": {},
   "outputs": [],
   "source": [
    "# This function creates the format above\n",
    "\n",
    "def messages_for(website):\n",
    "    return [\n",
    "        {\"role\": \"system\", \"content\": system_prompt},\n",
    "        {\"role\": \"user\", \"content\": user_prompt_for(website)}\n",
    "    ]"
   ]
  },
  {
   "cell_type": "code",
   "execution_count": 145,
   "id": "23709a3e-55bd-4e21-97b3-772e2c6c26c0",
   "metadata": {},
   "outputs": [],
   "source": [
    "# Calling the OpenAI API. \n",
    "\n",
    "def summarize(url):\n",
    "    website = Website(url)\n",
    "    response = openai.chat.completions.create(\n",
    "        model = \"gpt-4o-mini\",\n",
    "        messages = messages_for(website)\n",
    "    )\n",
    "    return response.choices[0].message.content\n",
    "\n"
   ]
  },
  {
   "cell_type": "code",
   "execution_count": 146,
   "id": "cc6a16ab-d169-48e5-bc62-c79ce0dfe4fd",
   "metadata": {},
   "outputs": [],
   "source": [
    "# Function to display in the Jupyter output, using markdown\n",
    "\n",
    "def display_summary(url):\n",
    "    summary = summarize(url)\n",
    "    display(Markdown(summary))\n",
    "\n"
   ]
  },
  {
   "cell_type": "code",
   "execution_count": 158,
   "id": "0a1d528e-5c2d-4249-a2c1-377fef81ae67",
   "metadata": {},
   "outputs": [
    {
     "data": {
      "text/markdown": [
       "# Summary of Machine Learning Engineer - AIC Core Job Listing\n",
       "\n",
       "## Position Overview\n",
       "The **Machine Learning Engineer** role is part of the **GenAI Engineering team** at Zoom, primarily focusing on developing and enhancing AI algorithms for the Zoom AI Companion product. This position is **remote**, based in the **United States**, with the opportunity to work closely with experienced researchers and engineers.\n",
       "\n",
       "## Responsibilities\n",
       "- Design and implement AI algorithms to solve complex business challenges.\n",
       "- Collaborate with cross-functional teams for scalable engineering solutions.\n",
       "- Engage in code reviews and technical presentations to ensure quality.\n",
       "- Identify improvements in existing systems and propose innovative solutions.\n",
       "- Stay updated on developments in GenAI research for continuous technical improvement.\n",
       "\n",
       "## Qualifications\n",
       "- Degree in Computer Science, AI, or related field.\n",
       "- Proficiency in programming languages like Python, C, or C++, with experience in scalable software systems.\n",
       "- Familiarity with deep learning frameworks (e.g., PyTorch, TensorFlow).\n",
       "- Strong collaboration skills and ability to present technical concepts effectively.\n",
       "\n",
       "## Salary Information\n",
       "- **Salary Range**: Approximately **$127,700 to $255,400** based on qualifications and experience.\n",
       "\n",
       "## Application Information\n",
       "- Anticipated position close date: **July 4, 2025**.\n",
       "- Applicants are encouraged to apply within a window of at least five days to ensure fair consideration. \n",
       "\n",
       "## Company Culture and Commitment\n",
       "- Zoom emphasizes a supportive workplace culture, offering various benefits aimed at physical, mental, and financial health, alongside work-life balance.\n",
       "- The company practices fair hiring, ensuring candidates are evaluated on their skills and potential. Accommodations are available for individuals with medical disabilities.\n",
       "\n",
       "## Conclusion\n",
       "This job listing presents an opportunity for individuals passionate about machine learning and AI to contribute to innovative engineering solutions in a dynamic team environment at Zoom."
      ],
      "text/plain": [
       "<IPython.core.display.Markdown object>"
      ]
     },
     "metadata": {},
     "output_type": "display_data"
    }
   ],
   "source": [
    "display_summary(\"https://careers.zoom.us/jobs/machine-learning-engineer-aic-core-san-jose-california-united-states-remote\")"
   ]
  },
  {
   "cell_type": "markdown",
   "id": "eeab24dc-5f90-4570-b542-b0585aca3eb6",
   "metadata": {},
   "source": [
    "# Handling JavaScript Website\n",
    "\n",
    "Using a website like Openai \"display_summary(\"https://openai.com\")\" - it doesn't work due to JavaScript. Selenium framework(install selenium and webdriver-manager) can be used to query the website as shown below"
   ]
  },
  {
   "cell_type": "code",
   "execution_count": 139,
   "id": "f4484fcf-8b39-4c3f-9674-37970ed71988",
   "metadata": {},
   "outputs": [],
   "source": [
    "# A class to represent a Webpage\n",
    "# If you're not familiar with Classes, check out the \"Intermediate Python\" notebook\n",
    "\n",
    "# Some websites need you to use proper headers when fetching them:\n",
    "# Import necessary modules\n",
    "from selenium import webdriver\n",
    "from selenium.webdriver.chrome.options import Options\n",
    "from selenium.webdriver.chrome.service import Service\n",
    "from webdriver_manager.chrome import ChromeDriverManager\n",
    "from bs4 import BeautifulSoup\n",
    "import time\n",
    "\n",
    "class ScrapeWebsite:\n",
    "    def __init__(self, url):\n",
    "        \"\"\"\n",
    "        Create this Website object from the given URL using Selenium + BeautifulSoup\n",
    "        Supports JavaScript-heavy and normal websites uniformly.\n",
    "        \"\"\"\n",
    "        self.url = url\n",
    "\n",
    "        # Configure headless Chrome\n",
    "        options = Options()\n",
    "        options.add_argument('--headless')\n",
    "        options.add_argument('--no-sandbox')\n",
    "        options.add_argument('--disable-dev-shm-usage')\n",
    "\n",
    "        # Use webdriver-manager to manage ChromeDriver\n",
    "        service = Service(ChromeDriverManager().install())\n",
    "\n",
    "        # Initialize the Chrome WebDriver with the service and options\n",
    "        driver = webdriver.Chrome(service=service, options=options)\n",
    "\n",
    "        # Start Selenium WebDriver\n",
    "        driver.get(url)\n",
    "\n",
    "        # Wait for JS to load (adjust as needed)\n",
    "        time.sleep(3)\n",
    "\n",
    "        # Fetch the page source after JS execution\n",
    "        page_source = driver.page_source\n",
    "        driver.quit()\n",
    "\n",
    "        # Parse the HTML content with BeautifulSoup\n",
    "        soup = BeautifulSoup(page_source, 'html.parser')\n",
    "\n",
    "        # Extract title\n",
    "        self.title = soup.title.string if soup.title else \"No title found\"\n",
    "\n",
    "        # Remove unnecessary elements\n",
    "        for irrelevant in soup.body([\"script\", \"style\", \"img\", \"input\"]):\n",
    "            irrelevant.decompose()\n",
    "\n",
    "        # Extract the main text\n",
    "        self.text = soup.body.get_text(separator=\"\\n\", strip=True)\n"
   ]
  },
  {
   "cell_type": "code",
   "execution_count": 132,
   "id": "f576f485-60c0-4539-bfb3-79d821ebefa4",
   "metadata": {},
   "outputs": [],
   "source": [
    "def summarize_js_website(url):\n",
    "    website = ScrapeWebsite(url)\n",
    "    response = openai.chat.completions.create(\n",
    "        model = \"gpt-4o-mini\",\n",
    "        messages = messages_for(website)\n",
    "    )\n",
    "    return response.choices[0].message.content"
   ]
  },
  {
   "cell_type": "code",
   "execution_count": 162,
   "id": "00ac3659-e4f0-4b64-8041-ba35bfa2c4c9",
   "metadata": {},
   "outputs": [],
   "source": [
    "summary = summarize_js_website(\"https://openai.com\")"
   ]
  },
  {
   "cell_type": "code",
   "execution_count": 163,
   "id": "d526136e-9960-4f09-aad0-32f8c11de0ac",
   "metadata": {},
   "outputs": [
    {
     "data": {
      "text/markdown": [
       "# Website Summary: Just a moment...\n",
       "\n",
       "The website appears to be experiencing a temporary delay with a message indicating it is waiting for `openai.com` to respond. The content suggests to the user that enabling JavaScript and cookies is necessary to continue accessing the site. \n",
       "\n",
       "### Key Points:\n",
       "- The page indicates a wait time for the response from `openai.com`.\n",
       "- Users are prompted to enable JavaScript and cookies for full functionality.\n",
       "- No additional news or announcements are provided on this page.\n",
       "\n",
       "This website primarily serves as an intermediary notice while the user's request to `openai.com` is being processed."
      ],
      "text/plain": [
       "<IPython.core.display.Markdown object>"
      ]
     },
     "metadata": {},
     "output_type": "display_data"
    }
   ],
   "source": [
    "display(Markdown(summary))"
   ]
  },
  {
   "cell_type": "code",
   "execution_count": null,
   "id": "14ce98a6-677f-43d9-9e21-3620caf0c5ea",
   "metadata": {},
   "outputs": [],
   "source": []
  }
 ],
 "metadata": {
  "kernelspec": {
   "display_name": "Python 3 (ipykernel)",
   "language": "python",
   "name": "python3"
  },
  "language_info": {
   "codemirror_mode": {
    "name": "ipython",
    "version": 3
   },
   "file_extension": ".py",
   "mimetype": "text/x-python",
   "name": "python",
   "nbconvert_exporter": "python",
   "pygments_lexer": "ipython3",
   "version": "3.11.13"
  }
 },
 "nbformat": 4,
 "nbformat_minor": 5
}
